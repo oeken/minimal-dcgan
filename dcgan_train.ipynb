{
 "cells": [
  {
   "cell_type": "code",
   "execution_count": 5,
   "metadata": {
    "collapsed": true
   },
   "outputs": [],
   "source": [
    "import numpy as np\n",
    "import matplotlib.pyplot as plt\n",
    "import matplotlib.gridspec as gridspec\n",
    "import os\n",
    "import tensorflow as tf\n",
    "from tensorflow.examples.tutorials.mnist import input_data"
   ]
  },
  {
   "cell_type": "code",
   "execution_count": 6,
   "metadata": {
    "collapsed": true
   },
   "outputs": [],
   "source": [
    "# Noise dimensions\n",
    "zdim = 50\n",
    "\n",
    "# Samples\n",
    "Nsamples = 100"
   ]
  },
  {
   "cell_type": "code",
   "execution_count": 7,
   "metadata": {},
   "outputs": [
    {
     "name": "stdout",
     "output_type": "stream",
     "text": [
      "Extracting MNIST_data/train-images-idx3-ubyte.gz\n",
      "Extracting MNIST_data/train-labels-idx1-ubyte.gz\n",
      "Extracting MNIST_data/t10k-images-idx3-ubyte.gz\n",
      "Extracting MNIST_data/t10k-labels-idx1-ubyte.gz\n"
     ]
    }
   ],
   "source": [
    "# Load MNIST data\n",
    "mnist = input_data.read_data_sets('MNIST_data', one_hot=False)"
   ]
  },
  {
   "cell_type": "code",
   "execution_count": 8,
   "metadata": {
    "collapsed": true
   },
   "outputs": [],
   "source": [
    "def leaky_relu(x, leak=0.2):\n",
    "    return tf.maximum(x, x * leak)\n",
    "\n",
    "def conv2d(inputs, filters, bn=True):\n",
    "    out = tf.layers.conv2d(inputs, filters, [5, 5], strides=(2, 2), padding='SAME')    \n",
    "    if bn:\n",
    "        return leaky_relu(tf.layers.batch_normalization(out))\n",
    "    else:\n",
    "        return leaky_relu(out)\n",
    "        \n",
    "def conv2dtrans(inputs, filters, activation, bn=True):\n",
    "    out = tf.layers.conv2d_transpose(inputs, filters, [5, 5], strides=(2, 2), padding='SAME')                     \n",
    "    if bn:\n",
    "        return activation(tf.layers.batch_normalization(out))\n",
    "    else:\n",
    "        return activation(out)"
   ]
  },
  {
   "cell_type": "code",
   "execution_count": 9,
   "metadata": {
    "collapsed": true
   },
   "outputs": [],
   "source": [
    "def generator(input, ch, reuse=False): # input is z, shape = [None, 100]\n",
    "    with tf.variable_scope(\"generator\", reuse=reuse):\n",
    "        g = tf.layers.dense(input, 7*7*ch[0])  # layer1: project        \n",
    "        g = tf.reshape(g, [-1, 7, 7, ch[0]])\n",
    "        g = tf.nn.relu(tf.layers.batch_normalization(g))\n",
    "        \n",
    "        g = conv2dtrans(g, ch[1], tf.nn.relu)  # layer2: conv_trans1 (128 --> 64)\n",
    "        g = conv2dtrans(g, ch[2], tf.nn.relu)  # layer3: conv_trans2 (64 --> 1)\n",
    "        return g\n",
    "    \n",
    "def discriminator(input, ch, reuse=False): # input is x or G(z), shape = [None, 1, 28 ,28]\n",
    "    with tf.variable_scope(\"discriminator\", reuse=reuse):\n",
    "        d = conv2d(input, ch[0]) # layer1: conv1 (1 --> 64)\n",
    "        d = conv2d(d, ch[1]) # layer2: conv2 (64 --> 128)\n",
    "        d = tf.reshape(d, [-1, 7*7*128])\n",
    "        d = tf.layers.dense(d, ch[2])\n",
    "        prob = tf.nn.sigmoid(d, name=\"d_out\")\n",
    "        return d, prob"
   ]
  },
  {
   "cell_type": "code",
   "execution_count": 10,
   "metadata": {
    "collapsed": true
   },
   "outputs": [],
   "source": [
    "def inference(x, z, g_ch, d_ch):\n",
    "    g = generator(z, g_ch)\n",
    "    g_demo = tf.identity(generator(z, g_ch, reuse=True), name=\"g_out\")\n",
    "    d0, prob0 = discriminator(g, d_ch)\n",
    "    d1, prob1 = discriminator(x, d_ch, reuse=True)    \n",
    "    return g, g_demo, d0, d1\n",
    "\n",
    "def loss(d0, d1):    \n",
    "    g_loss = tf.reduce_mean(tf.nn.sigmoid_cross_entropy_with_logits(logits=d0, labels=tf.ones_like(d0)))\n",
    "    d_loss1 = tf.reduce_mean(tf.nn.sigmoid_cross_entropy_with_logits(logits=d1, labels=tf.ones_like(d1)))\n",
    "    d_loss2 = tf.reduce_mean(tf.nn.sigmoid_cross_entropy_with_logits(logits=d0, labels=tf.zeros_like(d0)))\n",
    "    d_loss = d_loss1 + d_loss2    \n",
    "    return g_loss, d_loss\n",
    "\n",
    "def training(g_loss, d_loss, lr=0.0002, beta1=0.5):\n",
    "    t_vars = tf.trainable_variables()\n",
    "    g_vars = [var for var in t_vars if 'generator' in var.name] # Generator variables (used during G update)\n",
    "    d_vars = [var for var in t_vars if 'discriminator' in var.name] # Discriminator variables (used during D update)\n",
    "\n",
    "    g_opt = tf.train.AdamOptimizer(learning_rate=lr, beta1=beta1)\n",
    "    d_opt = tf.train.AdamOptimizer(learning_rate=lr, beta1=beta1)\n",
    "    g_opt_op = g_opt.minimize(loss=g_loss, var_list=g_vars)\n",
    "    d_opt_op = d_opt.minimize(loss=d_loss, var_list=d_vars)\n",
    "\n",
    "    return g_opt_op, d_opt_op"
   ]
  },
  {
   "cell_type": "code",
   "execution_count": 11,
   "metadata": {
    "collapsed": true
   },
   "outputs": [],
   "source": [
    "def draw_sample(m, n):\n",
    "    return np.random.uniform(-1.0, 1.0, size=[m, n])\n",
    "\n",
    "def placeholder_inputs(Nsamples):\n",
    "    # Input to the discriminator\n",
    "    x = tf.placeholder(tf.float32, shape=[None, 28, 28, 1], name='x')\n",
    "    # Input to the generator\n",
    "    z = tf.placeholder(tf.float32, shape=[None, zdim], name='z')    \n",
    "    return x, z\n",
    "\n",
    "def fill_feed_dict_d(x_pl, z_pl, dataset, Nsamples, zdim):\n",
    "    x_feed, _ = dataset.next_batch(Nsamples)\n",
    "    x_feed = np.reshape(x_feed, [Nsamples, 28, 28, 1])\n",
    "    z_feed = draw_sample(Nsamples, zdim)\n",
    "    return {x_pl: x_feed, z_pl: z_feed }\n",
    "\n",
    "def fill_feed_dict_g(z_pl, Nsamples, zdim):\n",
    "    z_feed = draw_sample(Nsamples, zdim)\n",
    "    return {z_pl: z_feed }"
   ]
  },
  {
   "cell_type": "code",
   "execution_count": null,
   "metadata": {},
   "outputs": [],
   "source": [
    "# DCGAN architecture\n",
    "g_channels = [128, 64, 1];\n",
    "d_channels = [64, 128, 1];\n",
    "\n",
    "tf.reset_default_graph()\n",
    "\n",
    "x, z = placeholder_inputs(Nsamples)\n",
    "g, g_demo, d0, d1 = inference(x ,z, g_channels, d_channels)\n",
    "g_loss, d_loss = loss(d0, d1)\n",
    "g_opt, d_opt = training(g_loss, d_loss)"
   ]
  },
  {
   "cell_type": "code",
   "execution_count": null,
   "metadata": {},
   "outputs": [],
   "source": [
    "saver = tf.train.Saver()\n",
    "\n",
    "log_d_loss = list()\n",
    "log_g_loss = list()\n",
    "log_iteration = list()\n",
    "\n",
    "with tf.Session() as sess:\n",
    "    \n",
    "    # Initialize all variables\n",
    "    sess.run(tf.global_variables_initializer())\n",
    "\n",
    "    # training iterations\n",
    "    for i in range(int(1e3)):\n",
    "        fd_d = fill_feed_dict_d(x, z, mnist.train, Nsamples, zdim)\n",
    "        fd_g = fill_feed_dict_g(z, Nsamples, zdim)\n",
    "\n",
    "        # 1. Update the discriminator using real and generated samples\n",
    "        _, d_loss_val = sess.run([d_opt, d_loss], feed_dict=fd_d)\n",
    "\n",
    "        # 2. Update the generator\n",
    "        _, g_loss_val = sess.run([g_opt, g_loss], feed_dict=fd_g)\n",
    "        \n",
    "        if (i+1) % int(1e2) == 0:            \n",
    "            log_iteration.append(i+1)\n",
    "            log_d_loss.append(d_loss_val)\n",
    "            log_g_loss.append(g_loss_val)\n",
    "            \n",
    "        if (i+1) % int(1e3) == 0:\n",
    "        print('Iteration {}, Discriminator Loss {:.3}, Generator Loss {:.3}'.format(i+1, d_loss_val, g_loss_val))\n",
    "\n",
    "        if (i+1) % int(1e3) == 0:\n",
    "            print('Saving model...')\n",
    "            saver.save(sess, './models/model_iter', global_step=i+1)\n",
    "            \n",
    "                    \n",
    "log_iteration = np.asarray(log_iteration)\n",
    "log_d_loss = np.asarray(log_d_loss)\n",
    "log_g_loss = np.asarray(log_g_loss)\n",
    "log = np.column_stack((log_iteration, log_d_loss, log_g_loss))\n",
    "np.save('./models/loss_log', log)"
   ]
  },
  {
   "cell_type": "code",
   "execution_count": null,
   "metadata": {
    "collapsed": true
   },
   "outputs": [],
   "source": []
  }
 ],
 "metadata": {
  "anaconda-cloud": {},
  "kernelspec": {
   "display_name": "Python 3",
   "language": "python",
   "name": "python3"
  },
  "language_info": {
   "codemirror_mode": {
    "name": "ipython",
    "version": 3
   },
   "file_extension": ".py",
   "mimetype": "text/x-python",
   "name": "python",
   "nbconvert_exporter": "python",
   "pygments_lexer": "ipython3",
   "version": "3.6.2"
  }
 },
 "nbformat": 4,
 "nbformat_minor": 2
}
